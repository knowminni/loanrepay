{
  "nbformat": 4,
  "nbformat_minor": 0,
  "metadata": {
    "colab": {
      "name": "Loan Repay.ipynb",
      "provenance": [],
      "collapsed_sections": []
    },
    "kernelspec": {
      "name": "python3",
      "display_name": "Python 3"
    }
  },
  "cells": [
    {
      "cell_type": "markdown",
      "metadata": {
        "id": "ddVHd1ngh2nu"
      },
      "source": [
        "#**Business Problem**\r\n",
        "XYZ bank wants a data driven approach to assist their decision making for providing loans to the customers. The banks wants to understand if the customer is going to repay the loan or not.\r\n",
        "\r\n",
        "#**Data Science Problem**\r\n",
        "Build a classification engine that predicts and classifies if a customer is going to repay the loan or not, based on various features like credit policy, interest rate, installment, revolving balance, etc.\r\n"
      ]
    },
    {
      "cell_type": "markdown",
      "metadata": {
        "id": "Mm2qkJL9ld9O"
      },
      "source": [
        "## ***1. Import Libraries and Dependencies***"
      ]
    },
    {
      "cell_type": "code",
      "metadata": {
        "id": "0eiqL4XUeoxl"
      },
      "source": [
        "import numpy as np\r\n",
        "import pandas as pd\r\n",
        "\r\n",
        "pd.set_option('display.max_rows', 800)\r\n",
        "pd.set_option('display.max_columns', 500)\r\n",
        "\r\n",
        "import seaborn as sns\r\n",
        "import matplotlib.pyplot as plt\r\n",
        "%matplotlib inline"
      ],
      "execution_count": 1,
      "outputs": []
    },
    {
      "cell_type": "code",
      "metadata": {
        "id": "37tSJsdozqGu"
      },
      "source": [
        "from sklearn.model_selection import train_test_split, GridSearchCV\r\n",
        "from sklearn.metrics import confusion_matrix, accuracy_score, classification_report\r\n",
        "from sklearn.tree import DecisionTreeClassifier"
      ],
      "execution_count": 2,
      "outputs": []
    },
    {
      "cell_type": "markdown",
      "metadata": {
        "id": "8HXiO8cz3n4H"
      },
      "source": [
        "## ***2. Load Data***"
      ]
    },
    {
      "cell_type": "code",
      "metadata": {
        "colab": {
          "resources": {
            "http://localhost:8080/nbextensions/google.colab/files.js": {
              "data": "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",
              "ok": true,
              "headers": [
                [
                  "content-type",
                  "application/javascript"
                ]
              ],
              "status": 200,
              "status_text": ""
            }
          },
          "base_uri": "https://localhost:8080/",
          "height": 74
        },
        "id": "MUtgr4zL0HXE",
        "outputId": "166c893b-75c3-44aa-cbb2-c36f4311832f"
      },
      "source": [
        "import io\r\n",
        "from google.colab import files\r\n",
        "uploaded = files.upload()"
      ],
      "execution_count": 3,
      "outputs": [
        {
          "output_type": "display_data",
          "data": {
            "text/html": [
              "\n",
              "     <input type=\"file\" id=\"files-f46415c0-80fc-4ee0-b452-929850ce2214\" name=\"files[]\" multiple disabled\n",
              "        style=\"border:none\" />\n",
              "     <output id=\"result-f46415c0-80fc-4ee0-b452-929850ce2214\">\n",
              "      Upload widget is only available when the cell has been executed in the\n",
              "      current browser session. Please rerun this cell to enable.\n",
              "      </output>\n",
              "      <script src=\"/nbextensions/google.colab/files.js\"></script> "
            ],
            "text/plain": [
              "<IPython.core.display.HTML object>"
            ]
          },
          "metadata": {
            "tags": []
          }
        },
        {
          "output_type": "stream",
          "text": [
            "Saving loan_data.csv to loan_data.csv\n"
          ],
          "name": "stdout"
        }
      ]
    },
    {
      "cell_type": "code",
      "metadata": {
        "id": "gj2Oegrq1cLI"
      },
      "source": [
        "data = pd.read_csv(io.BytesIO(uploaded['loan_data.csv']))"
      ],
      "execution_count": 4,
      "outputs": []
    },
    {
      "cell_type": "markdown",
      "metadata": {
        "id": "VG9n0VbN30Jm"
      },
      "source": [
        "## ***3. Understanding Data***"
      ]
    },
    {
      "cell_type": "code",
      "metadata": {
        "colab": {
          "base_uri": "https://localhost:8080/",
          "height": 435
        },
        "id": "axRJjRQ-1mwQ",
        "outputId": "8c83a30f-9f70-4cc8-ae67-0f20c7e54b8f"
      },
      "source": [
        "data"
      ],
      "execution_count": 5,
      "outputs": [
        {
          "output_type": "execute_result",
          "data": {
            "text/html": [
              "<div>\n",
              "<style scoped>\n",
              "    .dataframe tbody tr th:only-of-type {\n",
              "        vertical-align: middle;\n",
              "    }\n",
              "\n",
              "    .dataframe tbody tr th {\n",
              "        vertical-align: top;\n",
              "    }\n",
              "\n",
              "    .dataframe thead th {\n",
              "        text-align: right;\n",
              "    }\n",
              "</style>\n",
              "<table border=\"1\" class=\"dataframe\">\n",
              "  <thead>\n",
              "    <tr style=\"text-align: right;\">\n",
              "      <th></th>\n",
              "      <th>credit.policy</th>\n",
              "      <th>purpose</th>\n",
              "      <th>int.rate</th>\n",
              "      <th>installment</th>\n",
              "      <th>log.annual.inc</th>\n",
              "      <th>dti</th>\n",
              "      <th>fico</th>\n",
              "      <th>days.with.cr.line</th>\n",
              "      <th>revol.bal</th>\n",
              "      <th>revol.util</th>\n",
              "      <th>inq.last.6mths</th>\n",
              "      <th>delinq.2yrs</th>\n",
              "      <th>pub.rec</th>\n",
              "      <th>not.fully.paid</th>\n",
              "    </tr>\n",
              "  </thead>\n",
              "  <tbody>\n",
              "    <tr>\n",
              "      <th>0</th>\n",
              "      <td>1</td>\n",
              "      <td>debt_consolidation</td>\n",
              "      <td>0.1189</td>\n",
              "      <td>829.10</td>\n",
              "      <td>11.350407</td>\n",
              "      <td>19.48</td>\n",
              "      <td>737</td>\n",
              "      <td>5639.958333</td>\n",
              "      <td>28854</td>\n",
              "      <td>52.1</td>\n",
              "      <td>0</td>\n",
              "      <td>0</td>\n",
              "      <td>0</td>\n",
              "      <td>0</td>\n",
              "    </tr>\n",
              "    <tr>\n",
              "      <th>1</th>\n",
              "      <td>1</td>\n",
              "      <td>credit_card</td>\n",
              "      <td>0.1071</td>\n",
              "      <td>228.22</td>\n",
              "      <td>11.082143</td>\n",
              "      <td>14.29</td>\n",
              "      <td>707</td>\n",
              "      <td>2760.000000</td>\n",
              "      <td>33623</td>\n",
              "      <td>76.7</td>\n",
              "      <td>0</td>\n",
              "      <td>0</td>\n",
              "      <td>0</td>\n",
              "      <td>0</td>\n",
              "    </tr>\n",
              "    <tr>\n",
              "      <th>2</th>\n",
              "      <td>1</td>\n",
              "      <td>debt_consolidation</td>\n",
              "      <td>0.1357</td>\n",
              "      <td>366.86</td>\n",
              "      <td>10.373491</td>\n",
              "      <td>11.63</td>\n",
              "      <td>682</td>\n",
              "      <td>4710.000000</td>\n",
              "      <td>3511</td>\n",
              "      <td>25.6</td>\n",
              "      <td>1</td>\n",
              "      <td>0</td>\n",
              "      <td>0</td>\n",
              "      <td>0</td>\n",
              "    </tr>\n",
              "    <tr>\n",
              "      <th>3</th>\n",
              "      <td>1</td>\n",
              "      <td>debt_consolidation</td>\n",
              "      <td>0.1008</td>\n",
              "      <td>162.34</td>\n",
              "      <td>11.350407</td>\n",
              "      <td>8.10</td>\n",
              "      <td>712</td>\n",
              "      <td>2699.958333</td>\n",
              "      <td>33667</td>\n",
              "      <td>73.2</td>\n",
              "      <td>1</td>\n",
              "      <td>0</td>\n",
              "      <td>0</td>\n",
              "      <td>0</td>\n",
              "    </tr>\n",
              "    <tr>\n",
              "      <th>4</th>\n",
              "      <td>1</td>\n",
              "      <td>credit_card</td>\n",
              "      <td>0.1426</td>\n",
              "      <td>102.92</td>\n",
              "      <td>11.299732</td>\n",
              "      <td>14.97</td>\n",
              "      <td>667</td>\n",
              "      <td>4066.000000</td>\n",
              "      <td>4740</td>\n",
              "      <td>39.5</td>\n",
              "      <td>0</td>\n",
              "      <td>1</td>\n",
              "      <td>0</td>\n",
              "      <td>0</td>\n",
              "    </tr>\n",
              "    <tr>\n",
              "      <th>...</th>\n",
              "      <td>...</td>\n",
              "      <td>...</td>\n",
              "      <td>...</td>\n",
              "      <td>...</td>\n",
              "      <td>...</td>\n",
              "      <td>...</td>\n",
              "      <td>...</td>\n",
              "      <td>...</td>\n",
              "      <td>...</td>\n",
              "      <td>...</td>\n",
              "      <td>...</td>\n",
              "      <td>...</td>\n",
              "      <td>...</td>\n",
              "      <td>...</td>\n",
              "    </tr>\n",
              "    <tr>\n",
              "      <th>9573</th>\n",
              "      <td>0</td>\n",
              "      <td>all_other</td>\n",
              "      <td>0.1461</td>\n",
              "      <td>344.76</td>\n",
              "      <td>12.180755</td>\n",
              "      <td>10.39</td>\n",
              "      <td>672</td>\n",
              "      <td>10474.000000</td>\n",
              "      <td>215372</td>\n",
              "      <td>82.1</td>\n",
              "      <td>2</td>\n",
              "      <td>0</td>\n",
              "      <td>0</td>\n",
              "      <td>1</td>\n",
              "    </tr>\n",
              "    <tr>\n",
              "      <th>9574</th>\n",
              "      <td>0</td>\n",
              "      <td>all_other</td>\n",
              "      <td>0.1253</td>\n",
              "      <td>257.70</td>\n",
              "      <td>11.141862</td>\n",
              "      <td>0.21</td>\n",
              "      <td>722</td>\n",
              "      <td>4380.000000</td>\n",
              "      <td>184</td>\n",
              "      <td>1.1</td>\n",
              "      <td>5</td>\n",
              "      <td>0</td>\n",
              "      <td>0</td>\n",
              "      <td>1</td>\n",
              "    </tr>\n",
              "    <tr>\n",
              "      <th>9575</th>\n",
              "      <td>0</td>\n",
              "      <td>debt_consolidation</td>\n",
              "      <td>0.1071</td>\n",
              "      <td>97.81</td>\n",
              "      <td>10.596635</td>\n",
              "      <td>13.09</td>\n",
              "      <td>687</td>\n",
              "      <td>3450.041667</td>\n",
              "      <td>10036</td>\n",
              "      <td>82.9</td>\n",
              "      <td>8</td>\n",
              "      <td>0</td>\n",
              "      <td>0</td>\n",
              "      <td>1</td>\n",
              "    </tr>\n",
              "    <tr>\n",
              "      <th>9576</th>\n",
              "      <td>0</td>\n",
              "      <td>home_improvement</td>\n",
              "      <td>0.1600</td>\n",
              "      <td>351.58</td>\n",
              "      <td>10.819778</td>\n",
              "      <td>19.18</td>\n",
              "      <td>692</td>\n",
              "      <td>1800.000000</td>\n",
              "      <td>0</td>\n",
              "      <td>3.2</td>\n",
              "      <td>5</td>\n",
              "      <td>0</td>\n",
              "      <td>0</td>\n",
              "      <td>1</td>\n",
              "    </tr>\n",
              "    <tr>\n",
              "      <th>9577</th>\n",
              "      <td>0</td>\n",
              "      <td>debt_consolidation</td>\n",
              "      <td>0.1392</td>\n",
              "      <td>853.43</td>\n",
              "      <td>11.264464</td>\n",
              "      <td>16.28</td>\n",
              "      <td>732</td>\n",
              "      <td>4740.000000</td>\n",
              "      <td>37879</td>\n",
              "      <td>57.0</td>\n",
              "      <td>6</td>\n",
              "      <td>0</td>\n",
              "      <td>0</td>\n",
              "      <td>1</td>\n",
              "    </tr>\n",
              "  </tbody>\n",
              "</table>\n",
              "<p>9578 rows × 14 columns</p>\n",
              "</div>"
            ],
            "text/plain": [
              "      credit.policy             purpose  int.rate  installment  \\\n",
              "0                 1  debt_consolidation    0.1189       829.10   \n",
              "1                 1         credit_card    0.1071       228.22   \n",
              "2                 1  debt_consolidation    0.1357       366.86   \n",
              "3                 1  debt_consolidation    0.1008       162.34   \n",
              "4                 1         credit_card    0.1426       102.92   \n",
              "...             ...                 ...       ...          ...   \n",
              "9573              0           all_other    0.1461       344.76   \n",
              "9574              0           all_other    0.1253       257.70   \n",
              "9575              0  debt_consolidation    0.1071        97.81   \n",
              "9576              0    home_improvement    0.1600       351.58   \n",
              "9577              0  debt_consolidation    0.1392       853.43   \n",
              "\n",
              "      log.annual.inc    dti  fico  days.with.cr.line  revol.bal  revol.util  \\\n",
              "0          11.350407  19.48   737        5639.958333      28854        52.1   \n",
              "1          11.082143  14.29   707        2760.000000      33623        76.7   \n",
              "2          10.373491  11.63   682        4710.000000       3511        25.6   \n",
              "3          11.350407   8.10   712        2699.958333      33667        73.2   \n",
              "4          11.299732  14.97   667        4066.000000       4740        39.5   \n",
              "...              ...    ...   ...                ...        ...         ...   \n",
              "9573       12.180755  10.39   672       10474.000000     215372        82.1   \n",
              "9574       11.141862   0.21   722        4380.000000        184         1.1   \n",
              "9575       10.596635  13.09   687        3450.041667      10036        82.9   \n",
              "9576       10.819778  19.18   692        1800.000000          0         3.2   \n",
              "9577       11.264464  16.28   732        4740.000000      37879        57.0   \n",
              "\n",
              "      inq.last.6mths  delinq.2yrs  pub.rec  not.fully.paid  \n",
              "0                  0            0        0               0  \n",
              "1                  0            0        0               0  \n",
              "2                  1            0        0               0  \n",
              "3                  1            0        0               0  \n",
              "4                  0            1        0               0  \n",
              "...              ...          ...      ...             ...  \n",
              "9573               2            0        0               1  \n",
              "9574               5            0        0               1  \n",
              "9575               8            0        0               1  \n",
              "9576               5            0        0               1  \n",
              "9577               6            0        0               1  \n",
              "\n",
              "[9578 rows x 14 columns]"
            ]
          },
          "metadata": {
            "tags": []
          },
          "execution_count": 5
        }
      ]
    },
    {
      "cell_type": "code",
      "metadata": {
        "colab": {
          "base_uri": "https://localhost:8080/"
        },
        "id": "uYIQWB6P1oDF",
        "outputId": "3bdb070d-892c-493f-cd73-c29bd80e83f6"
      },
      "source": [
        "data.info()"
      ],
      "execution_count": 6,
      "outputs": [
        {
          "output_type": "stream",
          "text": [
            "<class 'pandas.core.frame.DataFrame'>\n",
            "RangeIndex: 9578 entries, 0 to 9577\n",
            "Data columns (total 14 columns):\n",
            " #   Column             Non-Null Count  Dtype  \n",
            "---  ------             --------------  -----  \n",
            " 0   credit.policy      9578 non-null   int64  \n",
            " 1   purpose            9578 non-null   object \n",
            " 2   int.rate           9578 non-null   float64\n",
            " 3   installment        9578 non-null   float64\n",
            " 4   log.annual.inc     9578 non-null   float64\n",
            " 5   dti                9578 non-null   float64\n",
            " 6   fico               9578 non-null   int64  \n",
            " 7   days.with.cr.line  9578 non-null   float64\n",
            " 8   revol.bal          9578 non-null   int64  \n",
            " 9   revol.util         9578 non-null   float64\n",
            " 10  inq.last.6mths     9578 non-null   int64  \n",
            " 11  delinq.2yrs        9578 non-null   int64  \n",
            " 12  pub.rec            9578 non-null   int64  \n",
            " 13  not.fully.paid     9578 non-null   int64  \n",
            "dtypes: float64(6), int64(7), object(1)\n",
            "memory usage: 1.0+ MB\n"
          ],
          "name": "stdout"
        }
      ]
    },
    {
      "cell_type": "code",
      "metadata": {
        "colab": {
          "base_uri": "https://localhost:8080/",
          "height": 314
        },
        "id": "Nn846-ZE2TNg",
        "outputId": "9bc87707-3b81-438c-a700-7dab66bd07e7"
      },
      "source": [
        "data.describe()"
      ],
      "execution_count": 7,
      "outputs": [
        {
          "output_type": "execute_result",
          "data": {
            "text/html": [
              "<div>\n",
              "<style scoped>\n",
              "    .dataframe tbody tr th:only-of-type {\n",
              "        vertical-align: middle;\n",
              "    }\n",
              "\n",
              "    .dataframe tbody tr th {\n",
              "        vertical-align: top;\n",
              "    }\n",
              "\n",
              "    .dataframe thead th {\n",
              "        text-align: right;\n",
              "    }\n",
              "</style>\n",
              "<table border=\"1\" class=\"dataframe\">\n",
              "  <thead>\n",
              "    <tr style=\"text-align: right;\">\n",
              "      <th></th>\n",
              "      <th>credit.policy</th>\n",
              "      <th>int.rate</th>\n",
              "      <th>installment</th>\n",
              "      <th>log.annual.inc</th>\n",
              "      <th>dti</th>\n",
              "      <th>fico</th>\n",
              "      <th>days.with.cr.line</th>\n",
              "      <th>revol.bal</th>\n",
              "      <th>revol.util</th>\n",
              "      <th>inq.last.6mths</th>\n",
              "      <th>delinq.2yrs</th>\n",
              "      <th>pub.rec</th>\n",
              "      <th>not.fully.paid</th>\n",
              "    </tr>\n",
              "  </thead>\n",
              "  <tbody>\n",
              "    <tr>\n",
              "      <th>count</th>\n",
              "      <td>9578.000000</td>\n",
              "      <td>9578.000000</td>\n",
              "      <td>9578.000000</td>\n",
              "      <td>9578.000000</td>\n",
              "      <td>9578.000000</td>\n",
              "      <td>9578.000000</td>\n",
              "      <td>9578.000000</td>\n",
              "      <td>9.578000e+03</td>\n",
              "      <td>9578.000000</td>\n",
              "      <td>9578.000000</td>\n",
              "      <td>9578.000000</td>\n",
              "      <td>9578.000000</td>\n",
              "      <td>9578.000000</td>\n",
              "    </tr>\n",
              "    <tr>\n",
              "      <th>mean</th>\n",
              "      <td>0.804970</td>\n",
              "      <td>0.122640</td>\n",
              "      <td>319.089413</td>\n",
              "      <td>10.932117</td>\n",
              "      <td>12.606679</td>\n",
              "      <td>710.846314</td>\n",
              "      <td>4560.767197</td>\n",
              "      <td>1.691396e+04</td>\n",
              "      <td>46.799236</td>\n",
              "      <td>1.577469</td>\n",
              "      <td>0.163708</td>\n",
              "      <td>0.062122</td>\n",
              "      <td>0.160054</td>\n",
              "    </tr>\n",
              "    <tr>\n",
              "      <th>std</th>\n",
              "      <td>0.396245</td>\n",
              "      <td>0.026847</td>\n",
              "      <td>207.071301</td>\n",
              "      <td>0.614813</td>\n",
              "      <td>6.883970</td>\n",
              "      <td>37.970537</td>\n",
              "      <td>2496.930377</td>\n",
              "      <td>3.375619e+04</td>\n",
              "      <td>29.014417</td>\n",
              "      <td>2.200245</td>\n",
              "      <td>0.546215</td>\n",
              "      <td>0.262126</td>\n",
              "      <td>0.366676</td>\n",
              "    </tr>\n",
              "    <tr>\n",
              "      <th>min</th>\n",
              "      <td>0.000000</td>\n",
              "      <td>0.060000</td>\n",
              "      <td>15.670000</td>\n",
              "      <td>7.547502</td>\n",
              "      <td>0.000000</td>\n",
              "      <td>612.000000</td>\n",
              "      <td>178.958333</td>\n",
              "      <td>0.000000e+00</td>\n",
              "      <td>0.000000</td>\n",
              "      <td>0.000000</td>\n",
              "      <td>0.000000</td>\n",
              "      <td>0.000000</td>\n",
              "      <td>0.000000</td>\n",
              "    </tr>\n",
              "    <tr>\n",
              "      <th>25%</th>\n",
              "      <td>1.000000</td>\n",
              "      <td>0.103900</td>\n",
              "      <td>163.770000</td>\n",
              "      <td>10.558414</td>\n",
              "      <td>7.212500</td>\n",
              "      <td>682.000000</td>\n",
              "      <td>2820.000000</td>\n",
              "      <td>3.187000e+03</td>\n",
              "      <td>22.600000</td>\n",
              "      <td>0.000000</td>\n",
              "      <td>0.000000</td>\n",
              "      <td>0.000000</td>\n",
              "      <td>0.000000</td>\n",
              "    </tr>\n",
              "    <tr>\n",
              "      <th>50%</th>\n",
              "      <td>1.000000</td>\n",
              "      <td>0.122100</td>\n",
              "      <td>268.950000</td>\n",
              "      <td>10.928884</td>\n",
              "      <td>12.665000</td>\n",
              "      <td>707.000000</td>\n",
              "      <td>4139.958333</td>\n",
              "      <td>8.596000e+03</td>\n",
              "      <td>46.300000</td>\n",
              "      <td>1.000000</td>\n",
              "      <td>0.000000</td>\n",
              "      <td>0.000000</td>\n",
              "      <td>0.000000</td>\n",
              "    </tr>\n",
              "    <tr>\n",
              "      <th>75%</th>\n",
              "      <td>1.000000</td>\n",
              "      <td>0.140700</td>\n",
              "      <td>432.762500</td>\n",
              "      <td>11.291293</td>\n",
              "      <td>17.950000</td>\n",
              "      <td>737.000000</td>\n",
              "      <td>5730.000000</td>\n",
              "      <td>1.824950e+04</td>\n",
              "      <td>70.900000</td>\n",
              "      <td>2.000000</td>\n",
              "      <td>0.000000</td>\n",
              "      <td>0.000000</td>\n",
              "      <td>0.000000</td>\n",
              "    </tr>\n",
              "    <tr>\n",
              "      <th>max</th>\n",
              "      <td>1.000000</td>\n",
              "      <td>0.216400</td>\n",
              "      <td>940.140000</td>\n",
              "      <td>14.528354</td>\n",
              "      <td>29.960000</td>\n",
              "      <td>827.000000</td>\n",
              "      <td>17639.958330</td>\n",
              "      <td>1.207359e+06</td>\n",
              "      <td>119.000000</td>\n",
              "      <td>33.000000</td>\n",
              "      <td>13.000000</td>\n",
              "      <td>5.000000</td>\n",
              "      <td>1.000000</td>\n",
              "    </tr>\n",
              "  </tbody>\n",
              "</table>\n",
              "</div>"
            ],
            "text/plain": [
              "       credit.policy     int.rate  installment  log.annual.inc          dti  \\\n",
              "count    9578.000000  9578.000000  9578.000000     9578.000000  9578.000000   \n",
              "mean        0.804970     0.122640   319.089413       10.932117    12.606679   \n",
              "std         0.396245     0.026847   207.071301        0.614813     6.883970   \n",
              "min         0.000000     0.060000    15.670000        7.547502     0.000000   \n",
              "25%         1.000000     0.103900   163.770000       10.558414     7.212500   \n",
              "50%         1.000000     0.122100   268.950000       10.928884    12.665000   \n",
              "75%         1.000000     0.140700   432.762500       11.291293    17.950000   \n",
              "max         1.000000     0.216400   940.140000       14.528354    29.960000   \n",
              "\n",
              "              fico  days.with.cr.line     revol.bal   revol.util  \\\n",
              "count  9578.000000        9578.000000  9.578000e+03  9578.000000   \n",
              "mean    710.846314        4560.767197  1.691396e+04    46.799236   \n",
              "std      37.970537        2496.930377  3.375619e+04    29.014417   \n",
              "min     612.000000         178.958333  0.000000e+00     0.000000   \n",
              "25%     682.000000        2820.000000  3.187000e+03    22.600000   \n",
              "50%     707.000000        4139.958333  8.596000e+03    46.300000   \n",
              "75%     737.000000        5730.000000  1.824950e+04    70.900000   \n",
              "max     827.000000       17639.958330  1.207359e+06   119.000000   \n",
              "\n",
              "       inq.last.6mths  delinq.2yrs      pub.rec  not.fully.paid  \n",
              "count     9578.000000  9578.000000  9578.000000     9578.000000  \n",
              "mean         1.577469     0.163708     0.062122        0.160054  \n",
              "std          2.200245     0.546215     0.262126        0.366676  \n",
              "min          0.000000     0.000000     0.000000        0.000000  \n",
              "25%          0.000000     0.000000     0.000000        0.000000  \n",
              "50%          1.000000     0.000000     0.000000        0.000000  \n",
              "75%          2.000000     0.000000     0.000000        0.000000  \n",
              "max         33.000000    13.000000     5.000000        1.000000  "
            ]
          },
          "metadata": {
            "tags": []
          },
          "execution_count": 7
        }
      ]
    },
    {
      "cell_type": "code",
      "metadata": {
        "colab": {
          "base_uri": "https://localhost:8080/",
          "height": 682
        },
        "id": "Z3Nx4goD2eCD",
        "outputId": "f42463e2-fda5-409e-82f3-56fd1eefacda"
      },
      "source": [
        "data.head(20)"
      ],
      "execution_count": 8,
      "outputs": [
        {
          "output_type": "execute_result",
          "data": {
            "text/html": [
              "<div>\n",
              "<style scoped>\n",
              "    .dataframe tbody tr th:only-of-type {\n",
              "        vertical-align: middle;\n",
              "    }\n",
              "\n",
              "    .dataframe tbody tr th {\n",
              "        vertical-align: top;\n",
              "    }\n",
              "\n",
              "    .dataframe thead th {\n",
              "        text-align: right;\n",
              "    }\n",
              "</style>\n",
              "<table border=\"1\" class=\"dataframe\">\n",
              "  <thead>\n",
              "    <tr style=\"text-align: right;\">\n",
              "      <th></th>\n",
              "      <th>credit.policy</th>\n",
              "      <th>purpose</th>\n",
              "      <th>int.rate</th>\n",
              "      <th>installment</th>\n",
              "      <th>log.annual.inc</th>\n",
              "      <th>dti</th>\n",
              "      <th>fico</th>\n",
              "      <th>days.with.cr.line</th>\n",
              "      <th>revol.bal</th>\n",
              "      <th>revol.util</th>\n",
              "      <th>inq.last.6mths</th>\n",
              "      <th>delinq.2yrs</th>\n",
              "      <th>pub.rec</th>\n",
              "      <th>not.fully.paid</th>\n",
              "    </tr>\n",
              "  </thead>\n",
              "  <tbody>\n",
              "    <tr>\n",
              "      <th>0</th>\n",
              "      <td>1</td>\n",
              "      <td>debt_consolidation</td>\n",
              "      <td>0.1189</td>\n",
              "      <td>829.10</td>\n",
              "      <td>11.350407</td>\n",
              "      <td>19.48</td>\n",
              "      <td>737</td>\n",
              "      <td>5639.958333</td>\n",
              "      <td>28854</td>\n",
              "      <td>52.1</td>\n",
              "      <td>0</td>\n",
              "      <td>0</td>\n",
              "      <td>0</td>\n",
              "      <td>0</td>\n",
              "    </tr>\n",
              "    <tr>\n",
              "      <th>1</th>\n",
              "      <td>1</td>\n",
              "      <td>credit_card</td>\n",
              "      <td>0.1071</td>\n",
              "      <td>228.22</td>\n",
              "      <td>11.082143</td>\n",
              "      <td>14.29</td>\n",
              "      <td>707</td>\n",
              "      <td>2760.000000</td>\n",
              "      <td>33623</td>\n",
              "      <td>76.7</td>\n",
              "      <td>0</td>\n",
              "      <td>0</td>\n",
              "      <td>0</td>\n",
              "      <td>0</td>\n",
              "    </tr>\n",
              "    <tr>\n",
              "      <th>2</th>\n",
              "      <td>1</td>\n",
              "      <td>debt_consolidation</td>\n",
              "      <td>0.1357</td>\n",
              "      <td>366.86</td>\n",
              "      <td>10.373491</td>\n",
              "      <td>11.63</td>\n",
              "      <td>682</td>\n",
              "      <td>4710.000000</td>\n",
              "      <td>3511</td>\n",
              "      <td>25.6</td>\n",
              "      <td>1</td>\n",
              "      <td>0</td>\n",
              "      <td>0</td>\n",
              "      <td>0</td>\n",
              "    </tr>\n",
              "    <tr>\n",
              "      <th>3</th>\n",
              "      <td>1</td>\n",
              "      <td>debt_consolidation</td>\n",
              "      <td>0.1008</td>\n",
              "      <td>162.34</td>\n",
              "      <td>11.350407</td>\n",
              "      <td>8.10</td>\n",
              "      <td>712</td>\n",
              "      <td>2699.958333</td>\n",
              "      <td>33667</td>\n",
              "      <td>73.2</td>\n",
              "      <td>1</td>\n",
              "      <td>0</td>\n",
              "      <td>0</td>\n",
              "      <td>0</td>\n",
              "    </tr>\n",
              "    <tr>\n",
              "      <th>4</th>\n",
              "      <td>1</td>\n",
              "      <td>credit_card</td>\n",
              "      <td>0.1426</td>\n",
              "      <td>102.92</td>\n",
              "      <td>11.299732</td>\n",
              "      <td>14.97</td>\n",
              "      <td>667</td>\n",
              "      <td>4066.000000</td>\n",
              "      <td>4740</td>\n",
              "      <td>39.5</td>\n",
              "      <td>0</td>\n",
              "      <td>1</td>\n",
              "      <td>0</td>\n",
              "      <td>0</td>\n",
              "    </tr>\n",
              "    <tr>\n",
              "      <th>5</th>\n",
              "      <td>1</td>\n",
              "      <td>credit_card</td>\n",
              "      <td>0.0788</td>\n",
              "      <td>125.13</td>\n",
              "      <td>11.904968</td>\n",
              "      <td>16.98</td>\n",
              "      <td>727</td>\n",
              "      <td>6120.041667</td>\n",
              "      <td>50807</td>\n",
              "      <td>51.0</td>\n",
              "      <td>0</td>\n",
              "      <td>0</td>\n",
              "      <td>0</td>\n",
              "      <td>0</td>\n",
              "    </tr>\n",
              "    <tr>\n",
              "      <th>6</th>\n",
              "      <td>1</td>\n",
              "      <td>debt_consolidation</td>\n",
              "      <td>0.1496</td>\n",
              "      <td>194.02</td>\n",
              "      <td>10.714418</td>\n",
              "      <td>4.00</td>\n",
              "      <td>667</td>\n",
              "      <td>3180.041667</td>\n",
              "      <td>3839</td>\n",
              "      <td>76.8</td>\n",
              "      <td>0</td>\n",
              "      <td>0</td>\n",
              "      <td>1</td>\n",
              "      <td>1</td>\n",
              "    </tr>\n",
              "    <tr>\n",
              "      <th>7</th>\n",
              "      <td>1</td>\n",
              "      <td>all_other</td>\n",
              "      <td>0.1114</td>\n",
              "      <td>131.22</td>\n",
              "      <td>11.002100</td>\n",
              "      <td>11.08</td>\n",
              "      <td>722</td>\n",
              "      <td>5116.000000</td>\n",
              "      <td>24220</td>\n",
              "      <td>68.6</td>\n",
              "      <td>0</td>\n",
              "      <td>0</td>\n",
              "      <td>0</td>\n",
              "      <td>1</td>\n",
              "    </tr>\n",
              "    <tr>\n",
              "      <th>8</th>\n",
              "      <td>1</td>\n",
              "      <td>home_improvement</td>\n",
              "      <td>0.1134</td>\n",
              "      <td>87.19</td>\n",
              "      <td>11.407565</td>\n",
              "      <td>17.25</td>\n",
              "      <td>682</td>\n",
              "      <td>3989.000000</td>\n",
              "      <td>69909</td>\n",
              "      <td>51.1</td>\n",
              "      <td>1</td>\n",
              "      <td>0</td>\n",
              "      <td>0</td>\n",
              "      <td>0</td>\n",
              "    </tr>\n",
              "    <tr>\n",
              "      <th>9</th>\n",
              "      <td>1</td>\n",
              "      <td>debt_consolidation</td>\n",
              "      <td>0.1221</td>\n",
              "      <td>84.12</td>\n",
              "      <td>10.203592</td>\n",
              "      <td>10.00</td>\n",
              "      <td>707</td>\n",
              "      <td>2730.041667</td>\n",
              "      <td>5630</td>\n",
              "      <td>23.0</td>\n",
              "      <td>1</td>\n",
              "      <td>0</td>\n",
              "      <td>0</td>\n",
              "      <td>0</td>\n",
              "    </tr>\n",
              "    <tr>\n",
              "      <th>10</th>\n",
              "      <td>1</td>\n",
              "      <td>debt_consolidation</td>\n",
              "      <td>0.1347</td>\n",
              "      <td>360.43</td>\n",
              "      <td>10.434116</td>\n",
              "      <td>22.09</td>\n",
              "      <td>677</td>\n",
              "      <td>6713.041667</td>\n",
              "      <td>13846</td>\n",
              "      <td>71.0</td>\n",
              "      <td>2</td>\n",
              "      <td>0</td>\n",
              "      <td>1</td>\n",
              "      <td>0</td>\n",
              "    </tr>\n",
              "    <tr>\n",
              "      <th>11</th>\n",
              "      <td>1</td>\n",
              "      <td>debt_consolidation</td>\n",
              "      <td>0.1324</td>\n",
              "      <td>253.58</td>\n",
              "      <td>11.835009</td>\n",
              "      <td>9.16</td>\n",
              "      <td>662</td>\n",
              "      <td>4298.000000</td>\n",
              "      <td>5122</td>\n",
              "      <td>18.2</td>\n",
              "      <td>2</td>\n",
              "      <td>1</td>\n",
              "      <td>0</td>\n",
              "      <td>0</td>\n",
              "    </tr>\n",
              "    <tr>\n",
              "      <th>12</th>\n",
              "      <td>1</td>\n",
              "      <td>debt_consolidation</td>\n",
              "      <td>0.0859</td>\n",
              "      <td>316.11</td>\n",
              "      <td>10.933107</td>\n",
              "      <td>15.49</td>\n",
              "      <td>767</td>\n",
              "      <td>6519.958333</td>\n",
              "      <td>6068</td>\n",
              "      <td>16.7</td>\n",
              "      <td>0</td>\n",
              "      <td>0</td>\n",
              "      <td>0</td>\n",
              "      <td>0</td>\n",
              "    </tr>\n",
              "    <tr>\n",
              "      <th>13</th>\n",
              "      <td>1</td>\n",
              "      <td>small_business</td>\n",
              "      <td>0.0714</td>\n",
              "      <td>92.82</td>\n",
              "      <td>11.512925</td>\n",
              "      <td>6.50</td>\n",
              "      <td>747</td>\n",
              "      <td>4384.000000</td>\n",
              "      <td>3021</td>\n",
              "      <td>4.8</td>\n",
              "      <td>0</td>\n",
              "      <td>1</td>\n",
              "      <td>0</td>\n",
              "      <td>0</td>\n",
              "    </tr>\n",
              "    <tr>\n",
              "      <th>14</th>\n",
              "      <td>1</td>\n",
              "      <td>debt_consolidation</td>\n",
              "      <td>0.0863</td>\n",
              "      <td>209.54</td>\n",
              "      <td>9.487972</td>\n",
              "      <td>9.73</td>\n",
              "      <td>727</td>\n",
              "      <td>1559.958333</td>\n",
              "      <td>6282</td>\n",
              "      <td>44.6</td>\n",
              "      <td>0</td>\n",
              "      <td>0</td>\n",
              "      <td>0</td>\n",
              "      <td>0</td>\n",
              "    </tr>\n",
              "    <tr>\n",
              "      <th>15</th>\n",
              "      <td>1</td>\n",
              "      <td>major_purchase</td>\n",
              "      <td>0.1103</td>\n",
              "      <td>327.53</td>\n",
              "      <td>10.738915</td>\n",
              "      <td>13.04</td>\n",
              "      <td>702</td>\n",
              "      <td>8159.958333</td>\n",
              "      <td>5394</td>\n",
              "      <td>53.4</td>\n",
              "      <td>1</td>\n",
              "      <td>0</td>\n",
              "      <td>0</td>\n",
              "      <td>0</td>\n",
              "    </tr>\n",
              "    <tr>\n",
              "      <th>16</th>\n",
              "      <td>1</td>\n",
              "      <td>all_other</td>\n",
              "      <td>0.1317</td>\n",
              "      <td>77.69</td>\n",
              "      <td>10.522773</td>\n",
              "      <td>2.26</td>\n",
              "      <td>672</td>\n",
              "      <td>3895.958333</td>\n",
              "      <td>2211</td>\n",
              "      <td>88.4</td>\n",
              "      <td>0</td>\n",
              "      <td>0</td>\n",
              "      <td>0</td>\n",
              "      <td>0</td>\n",
              "    </tr>\n",
              "    <tr>\n",
              "      <th>17</th>\n",
              "      <td>1</td>\n",
              "      <td>credit_card</td>\n",
              "      <td>0.0894</td>\n",
              "      <td>476.58</td>\n",
              "      <td>11.608236</td>\n",
              "      <td>7.07</td>\n",
              "      <td>797</td>\n",
              "      <td>6510.958333</td>\n",
              "      <td>7586</td>\n",
              "      <td>52.7</td>\n",
              "      <td>1</td>\n",
              "      <td>0</td>\n",
              "      <td>0</td>\n",
              "      <td>0</td>\n",
              "    </tr>\n",
              "    <tr>\n",
              "      <th>18</th>\n",
              "      <td>1</td>\n",
              "      <td>debt_consolidation</td>\n",
              "      <td>0.1039</td>\n",
              "      <td>584.12</td>\n",
              "      <td>10.491274</td>\n",
              "      <td>3.80</td>\n",
              "      <td>712</td>\n",
              "      <td>2760.000000</td>\n",
              "      <td>8311</td>\n",
              "      <td>59.8</td>\n",
              "      <td>0</td>\n",
              "      <td>0</td>\n",
              "      <td>0</td>\n",
              "      <td>0</td>\n",
              "    </tr>\n",
              "    <tr>\n",
              "      <th>19</th>\n",
              "      <td>1</td>\n",
              "      <td>major_purchase</td>\n",
              "      <td>0.1513</td>\n",
              "      <td>173.65</td>\n",
              "      <td>11.002100</td>\n",
              "      <td>2.74</td>\n",
              "      <td>667</td>\n",
              "      <td>1126.958333</td>\n",
              "      <td>591</td>\n",
              "      <td>84.4</td>\n",
              "      <td>3</td>\n",
              "      <td>0</td>\n",
              "      <td>0</td>\n",
              "      <td>0</td>\n",
              "    </tr>\n",
              "  </tbody>\n",
              "</table>\n",
              "</div>"
            ],
            "text/plain": [
              "    credit.policy             purpose  int.rate  installment  log.annual.inc  \\\n",
              "0               1  debt_consolidation    0.1189       829.10       11.350407   \n",
              "1               1         credit_card    0.1071       228.22       11.082143   \n",
              "2               1  debt_consolidation    0.1357       366.86       10.373491   \n",
              "3               1  debt_consolidation    0.1008       162.34       11.350407   \n",
              "4               1         credit_card    0.1426       102.92       11.299732   \n",
              "5               1         credit_card    0.0788       125.13       11.904968   \n",
              "6               1  debt_consolidation    0.1496       194.02       10.714418   \n",
              "7               1           all_other    0.1114       131.22       11.002100   \n",
              "8               1    home_improvement    0.1134        87.19       11.407565   \n",
              "9               1  debt_consolidation    0.1221        84.12       10.203592   \n",
              "10              1  debt_consolidation    0.1347       360.43       10.434116   \n",
              "11              1  debt_consolidation    0.1324       253.58       11.835009   \n",
              "12              1  debt_consolidation    0.0859       316.11       10.933107   \n",
              "13              1      small_business    0.0714        92.82       11.512925   \n",
              "14              1  debt_consolidation    0.0863       209.54        9.487972   \n",
              "15              1      major_purchase    0.1103       327.53       10.738915   \n",
              "16              1           all_other    0.1317        77.69       10.522773   \n",
              "17              1         credit_card    0.0894       476.58       11.608236   \n",
              "18              1  debt_consolidation    0.1039       584.12       10.491274   \n",
              "19              1      major_purchase    0.1513       173.65       11.002100   \n",
              "\n",
              "      dti  fico  days.with.cr.line  revol.bal  revol.util  inq.last.6mths  \\\n",
              "0   19.48   737        5639.958333      28854        52.1               0   \n",
              "1   14.29   707        2760.000000      33623        76.7               0   \n",
              "2   11.63   682        4710.000000       3511        25.6               1   \n",
              "3    8.10   712        2699.958333      33667        73.2               1   \n",
              "4   14.97   667        4066.000000       4740        39.5               0   \n",
              "5   16.98   727        6120.041667      50807        51.0               0   \n",
              "6    4.00   667        3180.041667       3839        76.8               0   \n",
              "7   11.08   722        5116.000000      24220        68.6               0   \n",
              "8   17.25   682        3989.000000      69909        51.1               1   \n",
              "9   10.00   707        2730.041667       5630        23.0               1   \n",
              "10  22.09   677        6713.041667      13846        71.0               2   \n",
              "11   9.16   662        4298.000000       5122        18.2               2   \n",
              "12  15.49   767        6519.958333       6068        16.7               0   \n",
              "13   6.50   747        4384.000000       3021         4.8               0   \n",
              "14   9.73   727        1559.958333       6282        44.6               0   \n",
              "15  13.04   702        8159.958333       5394        53.4               1   \n",
              "16   2.26   672        3895.958333       2211        88.4               0   \n",
              "17   7.07   797        6510.958333       7586        52.7               1   \n",
              "18   3.80   712        2760.000000       8311        59.8               0   \n",
              "19   2.74   667        1126.958333        591        84.4               3   \n",
              "\n",
              "    delinq.2yrs  pub.rec  not.fully.paid  \n",
              "0             0        0               0  \n",
              "1             0        0               0  \n",
              "2             0        0               0  \n",
              "3             0        0               0  \n",
              "4             1        0               0  \n",
              "5             0        0               0  \n",
              "6             0        1               1  \n",
              "7             0        0               1  \n",
              "8             0        0               0  \n",
              "9             0        0               0  \n",
              "10            0        1               0  \n",
              "11            1        0               0  \n",
              "12            0        0               0  \n",
              "13            1        0               0  \n",
              "14            0        0               0  \n",
              "15            0        0               0  \n",
              "16            0        0               0  \n",
              "17            0        0               0  \n",
              "18            0        0               0  \n",
              "19            0        0               0  "
            ]
          },
          "metadata": {
            "tags": []
          },
          "execution_count": 8
        }
      ]
    },
    {
      "cell_type": "code",
      "metadata": {
        "colab": {
          "base_uri": "https://localhost:8080/"
        },
        "id": "C5aDchQq2nhy",
        "outputId": "fd35a8f3-9a84-43da-c3b2-73f3a8d6e0d7"
      },
      "source": [
        "num_col = data.select_dtypes(include = np.number).columns\r\n",
        "categ_col = data.select_dtypes(exclude = np.number).columns\r\n",
        "\r\n",
        "print(\"Numerical Columns: \\n\", num_col,\"\\n\")\r\n",
        "print(\"Categorical Columns: \\n\", categ_col)"
      ],
      "execution_count": 9,
      "outputs": [
        {
          "output_type": "stream",
          "text": [
            "Numerical Columns: \n",
            " Index(['credit.policy', 'int.rate', 'installment', 'log.annual.inc', 'dti',\n",
            "       'fico', 'days.with.cr.line', 'revol.bal', 'revol.util',\n",
            "       'inq.last.6mths', 'delinq.2yrs', 'pub.rec', 'not.fully.paid'],\n",
            "      dtype='object') \n",
            "\n",
            "Categorical Columns: \n",
            " Index(['purpose'], dtype='object')\n"
          ],
          "name": "stdout"
        }
      ]
    },
    {
      "cell_type": "markdown",
      "metadata": {
        "id": "iezUwVrl3g41"
      },
      "source": [
        "## ***4. Data Preprocessing***"
      ]
    },
    {
      "cell_type": "code",
      "metadata": {
        "id": "gIKEYGqR3R5N"
      },
      "source": [
        "# Converting Categorical Data to Numerical Data using One Hot Encoding"
      ],
      "execution_count": 10,
      "outputs": []
    },
    {
      "cell_type": "code",
      "metadata": {
        "id": "8NY36n914Mje"
      },
      "source": [
        "data = pd.get_dummies(data = data, prefix = 'purpose', columns = ['purpose'])"
      ],
      "execution_count": 11,
      "outputs": []
    },
    {
      "cell_type": "code",
      "metadata": {
        "colab": {
          "base_uri": "https://localhost:8080/"
        },
        "id": "umXLdOp_4ltK",
        "outputId": "aba746bd-0749-4543-db88-22cedebf3a5e"
      },
      "source": [
        "num_col = data.select_dtypes(include = np.number).columns\r\n",
        "categ_col = data.select_dtypes(exclude = np.number).columns\r\n",
        "\r\n",
        "print(\"Numerical Columns: \\n\", num_col,\"\\n\")\r\n",
        "print(\"Categorical Columns: \\n\", categ_col)"
      ],
      "execution_count": 12,
      "outputs": [
        {
          "output_type": "stream",
          "text": [
            "Numerical Columns: \n",
            " Index(['credit.policy', 'int.rate', 'installment', 'log.annual.inc', 'dti',\n",
            "       'fico', 'days.with.cr.line', 'revol.bal', 'revol.util',\n",
            "       'inq.last.6mths', 'delinq.2yrs', 'pub.rec', 'not.fully.paid',\n",
            "       'purpose_all_other', 'purpose_credit_card',\n",
            "       'purpose_debt_consolidation', 'purpose_educational',\n",
            "       'purpose_home_improvement', 'purpose_major_purchase',\n",
            "       'purpose_small_business'],\n",
            "      dtype='object') \n",
            "\n",
            "Categorical Columns: \n",
            " Index([], dtype='object')\n"
          ],
          "name": "stdout"
        }
      ]
    },
    {
      "cell_type": "code",
      "metadata": {
        "colab": {
          "base_uri": "https://localhost:8080/"
        },
        "id": "xuSQi2oD4pl8",
        "outputId": "c0ea1738-3581-4ffb-d508-19d691d71c36"
      },
      "source": [
        "# Checking for NA values\r\n",
        "\r\n",
        "print(data.isna().sum())\r\n",
        "print(data.shape)"
      ],
      "execution_count": 13,
      "outputs": [
        {
          "output_type": "stream",
          "text": [
            "credit.policy                 0\n",
            "int.rate                      0\n",
            "installment                   0\n",
            "log.annual.inc                0\n",
            "dti                           0\n",
            "fico                          0\n",
            "days.with.cr.line             0\n",
            "revol.bal                     0\n",
            "revol.util                    0\n",
            "inq.last.6mths                0\n",
            "delinq.2yrs                   0\n",
            "pub.rec                       0\n",
            "not.fully.paid                0\n",
            "purpose_all_other             0\n",
            "purpose_credit_card           0\n",
            "purpose_debt_consolidation    0\n",
            "purpose_educational           0\n",
            "purpose_home_improvement      0\n",
            "purpose_major_purchase        0\n",
            "purpose_small_business        0\n",
            "dtype: int64\n",
            "(9578, 20)\n"
          ],
          "name": "stdout"
        }
      ]
    },
    {
      "cell_type": "markdown",
      "metadata": {
        "id": "zJnXf8Qj5Jy7"
      },
      "source": [
        "## ***5. Exploratory Data Analysis***"
      ]
    },
    {
      "cell_type": "code",
      "metadata": {
        "colab": {
          "base_uri": "https://localhost:8080/",
          "height": 279
        },
        "id": "kpitU-hs48Ob",
        "outputId": "3a2e173b-c25e-492c-afde-86a966a59945"
      },
      "source": [
        "# Checking distribution of y - variable, if it is unbalanced or not\r\n",
        "\r\n",
        "sns.countplot(y = data['not.fully.paid'], data = data)\r\n",
        "plt.xlabel('Count of each Target class')\r\n",
        "plt.ylabel('Target Classes')\r\n",
        "plt.show()"
      ],
      "execution_count": 14,
      "outputs": [
        {
          "output_type": "display_data",
          "data": {
            "image/png": "[encoded data removed]",
            "text/plain": [
              "<Figure size 432x288 with 1 Axes>"
            ]
          },
          "metadata": {
            "tags": [],
            "needs_background": "light"
          }
        }
      ]
    },
    {
      "cell_type": "code",
      "metadata": {
        "colab": {
          "base_uri": "https://localhost:8080/",
          "height": 716
        },
        "id": "hzEcZ8Bw5qMI",
        "outputId": "59c65449-745d-43e1-b712-7437e6a45ac1"
      },
      "source": [
        "# Check distribution of all features.\r\n",
        "data.hist(figsize = (15, 12), bins = 15)\r\n",
        "plt.title('Feature Distribution')\r\n",
        "plt.show()"
      ],
      "execution_count": 15,
      "outputs": [
        {
          "output_type": "display_data",
          "data": {
            "image/png": "[encoded data removed]",
            "text/plain": [
              "<Figure size 1080x864 with 20 Axes>"
            ]
          },
          "metadata": {
            "tags": [],
            "needs_background": "light"
          }
        }
      ]
    },
    {
      "cell_type": "markdown",
      "metadata": {
        "id": "g6VgxgSK7PYk"
      },
      "source": [
        "## ***6. Model Building***"
      ]
    },
    {
      "cell_type": "code",
      "metadata": {
        "id": "qn5CZVL96vpk"
      },
      "source": [
        "X = data.drop(['not.fully.paid'], axis = 1)\r\n",
        "y = data['not.fully.paid']"
      ],
      "execution_count": 16,
      "outputs": []
    },
    {
      "cell_type": "code",
      "metadata": {
        "id": "HFYpUQBV7jN_"
      },
      "source": [
        "X_train, X_test, y_train, y_test = train_test_split(X, y, test_size = 0.3, random_state = 1005)"
      ],
      "execution_count": 17,
      "outputs": []
    },
    {
      "cell_type": "markdown",
      "metadata": {
        "id": "ClIw-hgdjd01"
      },
      "source": [
        "## **Decision Tree Criterion - Gini**"
      ]
    },
    {
      "cell_type": "code",
      "metadata": {
        "id": "orZDhcDw73mz",
        "colab": {
          "base_uri": "https://localhost:8080/"
        },
        "outputId": "b66ddfbb-747c-44b7-fb07-3fa3e5220677"
      },
      "source": [
        "clf = DecisionTreeClassifier(criterion = 'gini', random_state = 0)\r\n",
        "clf.fit(X_train, y_train)\r\n",
        "y_pred = clf.predict(X_test)\r\n",
        "\r\n",
        "print(\"Confusion Matrix:\\n \",confusion_matrix(y_test, y_pred))\r\n",
        "print(\"\\n Accuracy Score:\\n \", accuracy_score(y_test, y_pred))\r\n",
        "print(\"\\n Classification Report:\\n \", classification_report(y_test, y_pred))\r\n"
      ],
      "execution_count": 21,
      "outputs": [
        {
          "output_type": "stream",
          "text": [
            "Confusion Matrix:\n",
            "  [[1995  422]\n",
            " [ 352  105]]\n",
            "\n",
            " Accuracy Score:\n",
            "  0.7306889352818372\n",
            "\n",
            " Classification Report:\n",
            "                precision    recall  f1-score   support\n",
            "\n",
            "           0       0.85      0.83      0.84      2417\n",
            "           1       0.20      0.23      0.21       457\n",
            "\n",
            "    accuracy                           0.73      2874\n",
            "   macro avg       0.52      0.53      0.53      2874\n",
            "weighted avg       0.75      0.73      0.74      2874\n",
            "\n"
          ],
          "name": "stdout"
        }
      ]
    },
    {
      "cell_type": "markdown",
      "metadata": {
        "id": "Jp_VAtcjmOtm"
      },
      "source": [
        "## **Decision Tree Criterion - Entropy**"
      ]
    },
    {
      "cell_type": "code",
      "metadata": {
        "colab": {
          "base_uri": "https://localhost:8080/"
        },
        "id": "ImV28Ma8l3we",
        "outputId": "1d8695cd-7f68-4515-9600-01ce8e876da1"
      },
      "source": [
        "clf = DecisionTreeClassifier(criterion = 'entropy', random_state = 0)\r\n",
        "clf.fit(X_train, y_train)\r\n",
        "y_pred = clf.predict(X_test)\r\n",
        "\r\n",
        "print(\"Confusion Matrix:\\n \",confusion_matrix(y_test, y_pred))\r\n",
        "print(\"\\n Accuracy Score:\\n \", accuracy_score(y_test, y_pred))\r\n",
        "print(\"\\n Classification Report:\\n \", classification_report(y_test, y_pred))\r\n"
      ],
      "execution_count": 22,
      "outputs": [
        {
          "output_type": "stream",
          "text": [
            "Confusion Matrix:\n",
            "  [[2043  374]\n",
            " [ 362   95]]\n",
            "\n",
            " Accuracy Score:\n",
            "  0.743910925539318\n",
            "\n",
            " Classification Report:\n",
            "                precision    recall  f1-score   support\n",
            "\n",
            "           0       0.85      0.85      0.85      2417\n",
            "           1       0.20      0.21      0.21       457\n",
            "\n",
            "    accuracy                           0.74      2874\n",
            "   macro avg       0.53      0.53      0.53      2874\n",
            "weighted avg       0.75      0.74      0.75      2874\n",
            "\n"
          ],
          "name": "stdout"
        }
      ]
    },
    {
      "cell_type": "markdown",
      "metadata": {
        "id": "RivIIKohoDku"
      },
      "source": [
        "## **Handling Class Imbalance**"
      ]
    },
    {
      "cell_type": "code",
      "metadata": {
        "colab": {
          "base_uri": "https://localhost:8080/"
        },
        "id": "Uh3DI99-mf_6",
        "outputId": "aeaaaf75-0cab-4b0b-a479-9c1073782b40"
      },
      "source": [
        "#Handle Class Imbalance\r\n",
        "from imblearn.over_sampling import RandomOverSampler\r\n",
        "\r\n",
        "ros = RandomOverSampler()\r\n",
        "X_ros, y_ros = ros.fit_sample(X, y)\r\n",
        "\r\n",
        "\r\n"
      ],
      "execution_count": 24,
      "outputs": [
        {
          "output_type": "stream",
          "text": [
            "/usr/local/lib/python3.6/dist-packages/sklearn/utils/deprecation.py:87: FutureWarning: Function safe_indexing is deprecated; safe_indexing is deprecated in version 0.22 and will be removed in version 0.24.\n",
            "  warnings.warn(msg, category=FutureWarning)\n",
            "/usr/local/lib/python3.6/dist-packages/sklearn/utils/deprecation.py:87: FutureWarning: Function safe_indexing is deprecated; safe_indexing is deprecated in version 0.22 and will be removed in version 0.24.\n",
            "  warnings.warn(msg, category=FutureWarning)\n"
          ],
          "name": "stderr"
        }
      ]
    },
    {
      "cell_type": "code",
      "metadata": {
        "id": "elEagpYqoovf"
      },
      "source": [
        "X_train, X_test, y_train, y_test = train_test_split(X_ros, y_ros, test_size = 0.3, random_state = 1005)"
      ],
      "execution_count": 26,
      "outputs": []
    },
    {
      "cell_type": "code",
      "metadata": {
        "colab": {
          "base_uri": "https://localhost:8080/"
        },
        "id": "niHBJwtppO9E",
        "outputId": "9ed52c66-fb32-4e31-95ae-0350a384ded1"
      },
      "source": [
        "clf1 = DecisionTreeClassifier(criterion = 'gini', random_state = 0)\r\n",
        "clf1.fit(X_train, y_train)\r\n",
        "y_pred = clf1.predict(X_test)\r\n",
        "\r\n",
        "print(\"Confusion Matrix:\\n \",confusion_matrix(y_test, y_pred))\r\n",
        "print(\"\\n Accuracy Score:\\n \", accuracy_score(y_test, y_pred))\r\n",
        "print(\"\\n Classification Report:\\n \", classification_report(y_test, y_pred))\r\n"
      ],
      "execution_count": 27,
      "outputs": [
        {
          "output_type": "stream",
          "text": [
            "Confusion Matrix:\n",
            "  [[1954  484]\n",
            " [  36 2353]]\n",
            "\n",
            " Accuracy Score:\n",
            "  0.8922726331054485\n",
            "\n",
            " Classification Report:\n",
            "                precision    recall  f1-score   support\n",
            "\n",
            "           0       0.98      0.80      0.88      2438\n",
            "           1       0.83      0.98      0.90      2389\n",
            "\n",
            "    accuracy                           0.89      4827\n",
            "   macro avg       0.91      0.89      0.89      4827\n",
            "weighted avg       0.91      0.89      0.89      4827\n",
            "\n"
          ],
          "name": "stdout"
        }
      ]
    },
    {
      "cell_type": "code",
      "metadata": {
        "colab": {
          "base_uri": "https://localhost:8080/"
        },
        "id": "L_CJdPktpmI9",
        "outputId": "785dc310-3e95-4af4-e3ee-71e270aa4c65"
      },
      "source": [
        "clf2 = DecisionTreeClassifier(criterion = 'entropy', random_state = 0)\r\n",
        "clf2.fit(X_train, y_train)\r\n",
        "y_pred = clf2.predict(X_test)\r\n",
        "\r\n",
        "print(\"Confusion Matrix:\\n \",confusion_matrix(y_test, y_pred))\r\n",
        "print(\"\\n Accuracy Score:\\n \", accuracy_score(y_test, y_pred))\r\n",
        "print(\"\\n Classification Report:\\n \", classification_report(y_test, y_pred))"
      ],
      "execution_count": 29,
      "outputs": [
        {
          "output_type": "stream",
          "text": [
            "Confusion Matrix:\n",
            "  [[1903  535]\n",
            " [  37 2352]]\n",
            "\n",
            " Accuracy Score:\n",
            "  0.8814998964159934\n",
            "\n",
            " Classification Report:\n",
            "                precision    recall  f1-score   support\n",
            "\n",
            "           0       0.98      0.78      0.87      2438\n",
            "           1       0.81      0.98      0.89      2389\n",
            "\n",
            "    accuracy                           0.88      4827\n",
            "   macro avg       0.90      0.88      0.88      4827\n",
            "weighted avg       0.90      0.88      0.88      4827\n",
            "\n"
          ],
          "name": "stdout"
        }
      ]
    },
    {
      "cell_type": "code",
      "metadata": {
        "id": "-e1RyN4SptQ0"
      },
      "source": [
        "dtclassifier = DecisionTreeClassifier()\r\n",
        "\r\n",
        "param_grid = {'criterion' : ['gini', 'entropy'],\r\n",
        "              'max_depth' : [10, 15, 25, 30, 35, 40, 45, 50]}\r\n",
        "\r\n",
        "grid = GridSearchCV(estimator = dtclassifier, param_grid = param_grid, refit = True, verbose = 0)"
      ],
      "execution_count": 30,
      "outputs": []
    },
    {
      "cell_type": "code",
      "metadata": {
        "colab": {
          "base_uri": "https://localhost:8080/"
        },
        "id": "VV9kUtZMrTxz",
        "outputId": "7f39b627-22d8-4a6f-c539-2705faab81d8"
      },
      "source": [
        "grid.fit(X_train, y_train)"
      ],
      "execution_count": 31,
      "outputs": [
        {
          "output_type": "execute_result",
          "data": {
            "text/plain": [
              "GridSearchCV(cv=None, error_score=nan,\n",
              "             estimator=DecisionTreeClassifier(ccp_alpha=0.0, class_weight=None,\n",
              "                                              criterion='gini', max_depth=None,\n",
              "                                              max_features=None,\n",
              "                                              max_leaf_nodes=None,\n",
              "                                              min_impurity_decrease=0.0,\n",
              "                                              min_impurity_split=None,\n",
              "                                              min_samples_leaf=1,\n",
              "                                              min_samples_split=2,\n",
              "                                              min_weight_fraction_leaf=0.0,\n",
              "                                              presort='deprecated',\n",
              "                                              random_state=None,\n",
              "                                              splitter='best'),\n",
              "             iid='deprecated', n_jobs=None,\n",
              "             param_grid={'criterion': ['gini', 'entropy'],\n",
              "                         'max_depth': [10, 15, 25, 30, 35, 40, 45, 50]},\n",
              "             pre_dispatch='2*n_jobs', refit=True, return_train_score=False,\n",
              "             scoring=None, verbose=0)"
            ]
          },
          "metadata": {
            "tags": []
          },
          "execution_count": 31
        }
      ]
    },
    {
      "cell_type": "code",
      "metadata": {
        "colab": {
          "base_uri": "https://localhost:8080/"
        },
        "id": "iSCHyxftrZA8",
        "outputId": "8fe46067-d418-4687-892b-cf82e98e4409"
      },
      "source": [
        "grid_pred = grid.predict(X_test)\r\n",
        "print(\"Confusion Matrix:\\n \",confusion_matrix(y_test, y_pred))\r\n",
        "print(\"\\n Accuracy Score:\\n \", accuracy_score(y_test, y_pred))\r\n",
        "print(\"\\n Classification Report:\\n \", classification_report(y_test, y_pred)"
      ],
      "execution_count": 32,
      "outputs": [
        {
          "output_type": "stream",
          "text": [
            "Confusion Matrix:\n",
            "  [[1903  535]\n",
            " [  37 2352]]\n",
            "\n",
            " Accuracy Score:\n",
            "  0.8814998964159934\n",
            "\n",
            " Classification Report:\n",
            "                precision    recall  f1-score   support\n",
            "\n",
            "           0       0.98      0.78      0.87      2438\n",
            "           1       0.81      0.98      0.89      2389\n",
            "\n",
            "    accuracy                           0.88      4827\n",
            "   macro avg       0.90      0.88      0.88      4827\n",
            "weighted avg       0.90      0.88      0.88      4827\n",
            "\n"
          ],
          "name": "stdout"
        }
      ]
    }
  ]
}